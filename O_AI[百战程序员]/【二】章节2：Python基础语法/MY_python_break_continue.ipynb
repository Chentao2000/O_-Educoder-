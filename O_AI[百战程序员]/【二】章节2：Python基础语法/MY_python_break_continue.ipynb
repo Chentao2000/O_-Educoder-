{
 "cells": [
  {
   "cell_type": "code",
   "execution_count": 5,
   "id": "978f728d",
   "metadata": {},
   "outputs": [
    {
     "name": "stdout",
     "output_type": "stream",
     "text": [
      "1\n",
      "2\n",
      "4\n",
      "5\n",
      "7\n",
      "8\n"
     ]
    }
   ],
   "source": [
    "# CT - 2022 6 1\n",
    "for i in range(10):\n",
    "    if i % 3 == 0:\n",
    "        continue\n",
    "    print(i)"
   ]
  },
  {
   "cell_type": "code",
   "execution_count": 2,
   "id": "6d0e174a",
   "metadata": {},
   "outputs": [
    {
     "name": "stdout",
     "output_type": "stream",
     "text": [
      "toms\n",
      "Peter\n"
     ]
    }
   ],
   "source": [
    "names = ['toms','Peter','Jerry','Jack']\n",
    "for i in range(len(names)):\n",
    "    if i >= 2:\n",
    "        break\n",
    "    print(names[i])"
   ]
  },
  {
   "cell_type": "code",
   "execution_count": 6,
   "id": "a62ad271",
   "metadata": {},
   "outputs": [
    {
     "name": "stdout",
     "output_type": "stream",
     "text": [
      "1\n",
      "3\n",
      "5\n",
      "7\n",
      "1\n",
      "3\n",
      "5\n",
      "7\n",
      "1\n",
      "3\n",
      "5\n",
      "7\n"
     ]
    }
   ],
   "source": [
    "for i in  range(3):\n",
    "    for i in range(9):\n",
    "        if i%2 == 0:\n",
    "            continue\n",
    "        print(i)"
   ]
  },
  {
   "cell_type": "code",
   "execution_count": 7,
   "id": "932a431a",
   "metadata": {},
   "outputs": [
    {
     "name": "stdout",
     "output_type": "stream",
     "text": [
      "Peter\n",
      "Jerry\n",
      "Peter\n",
      "Jerry\n",
      "Peter\n",
      "Jerry\n"
     ]
    }
   ],
   "source": [
    "name = ['Tom' , 'Peter' , 'Jerry','Jack']\n",
    "for i in range(3):\n",
    "    for i in range(len(names)):\n",
    "        if i >= 2:\n",
    "            break\n",
    "        print(names[i+1])"
   ]
  },
  {
   "cell_type": "code",
   "execution_count": null,
   "id": "5132dedf",
   "metadata": {},
   "outputs": [],
   "source": []
  }
 ],
 "metadata": {
  "kernelspec": {
   "display_name": "first_env",
   "language": "python",
   "name": "my_first_env"
  },
  "language_info": {
   "codemirror_mode": {
    "name": "ipython",
    "version": 3
   },
   "file_extension": ".py",
   "mimetype": "text/x-python",
   "name": "python",
   "nbconvert_exporter": "python",
   "pygments_lexer": "ipython3",
   "version": "3.6.13"
  }
 },
 "nbformat": 4,
 "nbformat_minor": 5
}
