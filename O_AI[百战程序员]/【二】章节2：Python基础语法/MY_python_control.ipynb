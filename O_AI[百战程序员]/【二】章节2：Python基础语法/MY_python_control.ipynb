{
 "cells": [
  {
   "cell_type": "code",
   "execution_count": 3,
   "id": "df10c969",
   "metadata": {},
   "outputs": [
    {
     "name": "stdout",
     "output_type": "stream",
     "text": [
      "abc\n",
      "root\n"
     ]
    }
   ],
   "source": [
    "uid = 0\n",
    "\n",
    "if uid == 0:\n",
    "    print(\"abc\")\n",
    "\n",
    "print(\"root\")"
   ]
  },
  {
   "cell_type": "code",
   "execution_count": 4,
   "id": "f23c5d7f",
   "metadata": {},
   "outputs": [
    {
     "name": "stdout",
     "output_type": "stream",
     "text": [
      "abc\n"
     ]
    }
   ],
   "source": [
    "if uid == None:\n",
    "    print(\"root\")\n",
    "else:\n",
    "    print(\"abc\")"
   ]
  },
  {
   "cell_type": "code",
   "execution_count": 5,
   "id": "14245f95",
   "metadata": {},
   "outputs": [
    {
     "name": "stdout",
     "output_type": "stream",
     "text": [
      "Level B\n"
     ]
    }
   ],
   "source": [
    "score = 88.8\n",
    "level = int(score % 10)\n",
    "\n",
    "if level >= 10:\n",
    "    print('Level A+')\n",
    "elif level == 9:\n",
    "    print('Level A')\n",
    "elif level == 8:\n",
    "    print('Level B')\n",
    "elif level == 7:\n",
    "    print('Level C')\n",
    "elif level == 6:\n",
    "    print('Level D')\n",
    "else:\n",
    "    print('Level E')"
   ]
  },
  {
   "cell_type": "code",
   "execution_count": 6,
   "id": "6cbe6630",
   "metadata": {},
   "outputs": [
    {
     "name": "stdout",
     "output_type": "stream",
     "text": [
      "Level A+\n"
     ]
    }
   ],
   "source": [
    "print('Level A+') if level >= 7 else print('Level Others')"
   ]
  },
  {
   "cell_type": "code",
   "execution_count": null,
   "id": "9fee44fa",
   "metadata": {},
   "outputs": [],
   "source": []
  }
 ],
 "metadata": {
  "kernelspec": {
   "display_name": "first_env",
   "language": "python",
   "name": "my_first_env"
  },
  "language_info": {
   "codemirror_mode": {
    "name": "ipython",
    "version": 3
   },
   "file_extension": ".py",
   "mimetype": "text/x-python",
   "name": "python",
   "nbconvert_exporter": "python",
   "pygments_lexer": "ipython3",
   "version": "3.6.13"
  }
 },
 "nbformat": 4,
 "nbformat_minor": 5
}
