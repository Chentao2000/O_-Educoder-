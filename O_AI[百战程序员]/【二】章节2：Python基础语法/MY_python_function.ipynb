{
 "cells": [
  {
   "cell_type": "code",
   "execution_count": 1,
   "id": "c7de5d1a",
   "metadata": {},
   "outputs": [],
   "source": [
    "def mytest():\n",
    "    print('mytest function')"
   ]
  },
  {
   "cell_type": "code",
   "execution_count": 2,
   "id": "5be4dbcf",
   "metadata": {},
   "outputs": [
    {
     "name": "stdout",
     "output_type": "stream",
     "text": [
      "mytest function\n"
     ]
    }
   ],
   "source": [
    "mytest()"
   ]
  },
  {
   "cell_type": "code",
   "execution_count": 3,
   "id": "e47c33db",
   "metadata": {},
   "outputs": [
    {
     "name": "stdout",
     "output_type": "stream",
     "text": [
      "my name is yasaka ,my age is 19\n"
     ]
    }
   ],
   "source": [
    "def mytest(name,age):\n",
    "    print('my name is %s ,my age is %d'%(name,age))\n",
    "    \n",
    "mytest('yasaka',19)"
   ]
  },
  {
   "cell_type": "code",
   "execution_count": 4,
   "id": "08a23640",
   "metadata": {},
   "outputs": [
    {
     "name": "stdout",
     "output_type": "stream",
     "text": [
      "my name is yasaka ,my ages is 18\n",
      "my name is yasaka ,my ages is 28\n",
      "my name is yasaka ,my ages is 28\n",
      "my name is yasaka ,my ages is 28\n"
     ]
    }
   ],
   "source": [
    "def mytest(name,age=18):\n",
    "    print('my name is %s ,my ages is %d'%(name,age))\n",
    "    \n",
    "mytest('yasaka')\n",
    "mytest('yasaka',28)\n",
    "mytest(name='yasaka',age=28)\n",
    "mytest(age=28,name='yasaka')"
   ]
  },
  {
   "cell_type": "code",
   "execution_count": 6,
   "id": "22c141b7",
   "metadata": {},
   "outputs": [
    {
     "name": "stdout",
     "output_type": "stream",
     "text": [
      "my name is yasaka, my age is 19\n",
      "() 0\n",
      "my name is yasaka, my age is 19\n",
      "('soccer', 'basketball', 'baseball') 3\n"
     ]
    }
   ],
   "source": [
    "def mytest(name, age, *hobby):\n",
    "    print('my name is %s, my age is %d' % (name, age))\n",
    "    print(hobby, len(hobby))\n",
    "    \n",
    "mytest('yasaka', 19)\n",
    "mytest('yasaka', 19, 'soccer', 'basketball', 'baseball')"
   ]
  },
  {
   "cell_type": "code",
   "execution_count": 9,
   "id": "faab7397",
   "metadata": {},
   "outputs": [
    {
     "name": "stdout",
     "output_type": "stream",
     "text": [
      "my name is yasaka, my age is 19\n",
      "{} 0\n",
      "my name is yasaka, my age is 19\n",
      "{'fisrt_hobby': 'soccer', 'second_hobby': 'basketball', 'third_hobby': 'baseball'} 3\n"
     ]
    }
   ],
   "source": [
    "def mytest(name, age, **hobby):\n",
    "    print('my name is %s, my age is %d' % (name, age))\n",
    "    print(hobby, len(hobby))\n",
    "    \n",
    "mytest('yasaka', 19)\n",
    "mytest('yasaka', 19, fisrt_hobby='soccer', second_hobby='basketball', third_hobby='baseball')"
   ]
  },
  {
   "cell_type": "code",
   "execution_count": 10,
   "id": "2e4896fc",
   "metadata": {},
   "outputs": [
    {
     "name": "stdout",
     "output_type": "stream",
     "text": [
      "55\n",
      "None\n"
     ]
    }
   ],
   "source": [
    "# 此方法是来将两个对象进行加和\n",
    "def my_add(a,b):\n",
    "    return a+b\n",
    "print(my_add(50,5))\n",
    "print(my_add.__doc__)\n"
   ]
  },
  {
   "cell_type": "code",
   "execution_count": 11,
   "id": "3c684fac",
   "metadata": {},
   "outputs": [
    {
     "data": {
      "text/plain": [
       "150"
      ]
     },
     "execution_count": 11,
     "metadata": {},
     "output_type": "execute_result"
    }
   ],
   "source": [
    "def func1(x):\n",
    "    y = 100\n",
    "    return x+y\n",
    "\n",
    "func1(50)"
   ]
  },
  {
   "cell_type": "code",
   "execution_count": 13,
   "id": "d613afd1",
   "metadata": {},
   "outputs": [
    {
     "name": "stdout",
     "output_type": "stream",
     "text": [
      "150 130\n"
     ]
    }
   ],
   "source": [
    "def func1(x):\n",
    "    z = 100\n",
    "    return x+z\n",
    "\n",
    "def func2(x):\n",
    "    z = 100\n",
    "    return x+z\n",
    "\n",
    "print(func1(50), func2(30))"
   ]
  },
  {
   "cell_type": "code",
   "execution_count": 14,
   "id": "5aa445af",
   "metadata": {
    "scrolled": true
   },
   "outputs": [
    {
     "name": "stdout",
     "output_type": "stream",
     "text": [
      "150 130\n"
     ]
    }
   ],
   "source": [
    "y = 100\n",
    "\n",
    "def func1(x):\n",
    "    return x+y\n",
    "\n",
    "def func2(x):\n",
    "    return x+y\n",
    "\n",
    "print(func1(50), func2(30))"
   ]
  },
  {
   "cell_type": "markdown",
   "id": "beebe996",
   "metadata": {},
   "source": [
    "global关键字 全局变量的访问或者说使用是直接可以去用的，不过要注意一下就近原则，才能确定是否真的访问到了你要的全局变量 全局变量的重新赋值，我们必须在函数内部去使用global关键字才可以\n"
   ]
  },
  {
   "cell_type": "code",
   "execution_count": 15,
   "id": "45304175",
   "metadata": {},
   "outputs": [
    {
     "name": "stdout",
     "output_type": "stream",
     "text": [
      "200\n"
     ]
    }
   ],
   "source": [
    "y = 100\n",
    "\n",
    "def func():\n",
    "    global y\n",
    "    y = 200\n",
    "\n",
    "func()\n",
    "print(y)"
   ]
  },
  {
   "cell_type": "markdown",
   "id": "81c756c3",
   "metadata": {},
   "source": [
    "递归"
   ]
  },
  {
   "cell_type": "code",
   "execution_count": 18,
   "id": "ef14f64c",
   "metadata": {},
   "outputs": [
    {
     "name": "stdout",
     "output_type": "stream",
     "text": [
      "[1, 2, 3, 4, 5, 6, 7, 8, 9, 10, 11, 12, 13, 14, 15, 16, 17, 18, 19, 20, 21, 22, 23, 24, 25, 26, 27, 28, 29, 30, 31, 32, 33, 34, 35, 36, 37, 38, 39, 40, 41, 42, 43, 44, 45, 46, 47, 48, 49, 50, 51, 52, 53, 54, 55, 56, 57, 58, 59, 60, 61, 62, 63, 64, 65, 66, 67, 68, 69, 70, 71, 72, 73, 74, 75, 76, 77, 78, 79, 80, 81, 82, 83, 84, 85, 86, 87, 88, 89, 90, 91, 92, 93, 94, 95, 96, 97, 98, 99, 100]\n"
     ]
    },
    {
     "data": {
      "text/plain": [
       "5050"
      ]
     },
     "execution_count": 18,
     "metadata": {},
     "output_type": "execute_result"
    }
   ],
   "source": [
    "data = list(range(1, 101))\n",
    "#\n",
    "print(data)\n",
    "\n",
    "def my_add(a,b):\n",
    "    if len(a)==1:\n",
    "        return a[0]+b\n",
    "    return my_add(a[:-1] ,a[-1]) + b\n",
    "\n",
    "my_add(data[:-1], data[-1])"
   ]
  },
  {
   "cell_type": "code",
   "execution_count": 20,
   "id": "eb84710c",
   "metadata": {},
   "outputs": [
    {
     "name": "stdout",
     "output_type": "stream",
     "text": [
      "[1, 2, 3, 4, 5, 6, 7, 8, 9, 10, 11, 12, 13, 14, 15, 16, 17, 18, 19, 20, 21, 22, 23, 24, 25, 26, 27, 28, 29, 30, 31, 32, 33, 34, 35, 36, 37, 38, 39, 40, 41, 42, 43, 44, 45, 46, 47, 48, 49, 50, 51, 52, 53, 54, 55, 56, 57, 58, 59, 60, 61, 62, 63, 64, 65, 66, 67, 68, 69, 70, 71, 72, 73, 74, 75, 76, 77, 78, 79, 80, 81, 82, 83, 84, 85, 86, 87, 88, 89, 90, 91, 92, 93, 94, 95, 96, 97, 98, 99, 100]\n"
     ]
    },
    {
     "data": {
      "text/plain": [
       "5050"
      ]
     },
     "execution_count": 20,
     "metadata": {},
     "output_type": "execute_result"
    }
   ],
   "source": [
    "data = list(range(1,101))\n",
    "print(data)\n",
    "from functools import reduce\n",
    "reduce(lambda a,b: a+b ,data)"
   ]
  },
  {
   "cell_type": "code",
   "execution_count": 26,
   "id": "36a96ae6",
   "metadata": {},
   "outputs": [
    {
     "name": "stdout",
     "output_type": "stream",
     "text": [
      "[2, 4, 6, 8, 10, 12, 14, 16, 18, 20, 22, 24, 26, 28, 30, 32, 34, 36, 38, 40, 42, 44, 46, 48, 50, 52, 54, 56, 58, 60, 62, 64, 66, 68, 70, 72, 74, 76, 78, 80, 82, 84, 86, 88, 90, 92, 94, 96, 98, 100]\n"
     ]
    }
   ],
   "source": [
    "def my_condition(x):\n",
    "    return x%2==0\n",
    "\n",
    "print(list(filter(my_condition, data)))"
   ]
  },
  {
   "cell_type": "code",
   "execution_count": 27,
   "id": "bb242373",
   "metadata": {},
   "outputs": [
    {
     "data": {
      "text/plain": [
       "[1, 3, 6, -20, -70]"
      ]
     },
     "execution_count": 27,
     "metadata": {},
     "output_type": "execute_result"
    }
   ],
   "source": [
    "sorted([1,3,6,-20,-70],key=abs)"
   ]
  },
  {
   "cell_type": "code",
   "execution_count": null,
   "id": "688b5dab",
   "metadata": {},
   "outputs": [],
   "source": []
  }
 ],
 "metadata": {
  "kernelspec": {
   "display_name": "first_env",
   "language": "python",
   "name": "my_first_env"
  },
  "language_info": {
   "codemirror_mode": {
    "name": "ipython",
    "version": 3
   },
   "file_extension": ".py",
   "mimetype": "text/x-python",
   "name": "python",
   "nbconvert_exporter": "python",
   "pygments_lexer": "ipython3",
   "version": "3.6.13"
  }
 },
 "nbformat": 4,
 "nbformat_minor": 5
}
