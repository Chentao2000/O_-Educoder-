{
 "cells": [
  {
   "cell_type": "code",
   "execution_count": 1,
   "id": "b65ca323",
   "metadata": {},
   "outputs": [],
   "source": [
    "# CT - 2022 - 6 -1\n",
    "class Person:\n",
    "    def sing(self):\n",
    "        print(\"人在唱歌\")\n",
    "\n",
    "        \n",
    "class Student(Person):\n",
    "    def dance(self):\n",
    "        print(\"人在跳舞\") \n",
    "class Teacher(Person):\n",
    "    pass"
   ]
  },
  {
   "cell_type": "code",
   "execution_count": 4,
   "id": "7c8c8006",
   "metadata": {},
   "outputs": [
    {
     "name": "stdout",
     "output_type": "stream",
     "text": [
      "人在跳舞\n",
      "人在唱歌\n",
      "人在唱歌\n"
     ]
    }
   ],
   "source": [
    "s1 = Student()\n",
    "s1.dance()\n",
    "s1.sing()\n",
    "\n",
    "t1 = Teacher()\n",
    "t1.sing()"
   ]
  },
  {
   "cell_type": "code",
   "execution_count": 5,
   "id": "b649cbc5",
   "metadata": {},
   "outputs": [],
   "source": [
    "class Person:\n",
    "    def __init__(self,name,age):\n",
    "        self.name = name\n",
    "        self.age = age\n",
    "    def sing(self):\n",
    "        print(\"人在唱歌\")\n",
    "        \n",
    "        \n",
    "class Student(Person):\n",
    "    def __init__(self,name,age,score):\n",
    "        self.score = score\n",
    "        Person.__init__(self,name,age)\n",
    "        \n",
    "    def dance(self):\n",
    "        print(\"人在跳舞\")\n",
    "    \n",
    "    def sing(self,song):\n",
    "        super().sing()\n",
    "        print(\"在唱 %s\"%song)\n",
    "        \n",
    "class Teacher(Person):\n",
    "    pass\n",
    "    "
   ]
  },
  {
   "cell_type": "code",
   "execution_count": 6,
   "id": "469d1a19",
   "metadata": {},
   "outputs": [],
   "source": [
    "s1 = Student(\"张三\",18,100)"
   ]
  },
  {
   "cell_type": "code",
   "execution_count": 7,
   "id": "e548ab39",
   "metadata": {},
   "outputs": [
    {
     "data": {
      "text/plain": [
       "('张三', 18, 100)"
      ]
     },
     "execution_count": 7,
     "metadata": {},
     "output_type": "execute_result"
    }
   ],
   "source": [
    "s1.name,s1.age,s1.score"
   ]
  },
  {
   "cell_type": "code",
   "execution_count": 8,
   "id": "b05fac3c",
   "metadata": {},
   "outputs": [
    {
     "name": "stdout",
     "output_type": "stream",
     "text": [
      "人在唱歌\n",
      "在唱 黄河大合唱\n"
     ]
    }
   ],
   "source": [
    "s1.sing(\"黄河大合唱\")"
   ]
  },
  {
   "cell_type": "code",
   "execution_count": null,
   "id": "88e7bd41",
   "metadata": {},
   "outputs": [],
   "source": []
  }
 ],
 "metadata": {
  "kernelspec": {
   "display_name": "first_env",
   "language": "python",
   "name": "my_first_env"
  },
  "language_info": {
   "codemirror_mode": {
    "name": "ipython",
    "version": 3
   },
   "file_extension": ".py",
   "mimetype": "text/x-python",
   "name": "python",
   "nbconvert_exporter": "python",
   "pygments_lexer": "ipython3",
   "version": "3.6.13"
  }
 },
 "nbformat": 4,
 "nbformat_minor": 5
}
