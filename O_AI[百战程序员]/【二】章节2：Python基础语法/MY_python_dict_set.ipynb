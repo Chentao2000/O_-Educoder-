{
 "cells": [
  {
   "cell_type": "code",
   "execution_count": 6,
   "id": "cb98a36d",
   "metadata": {},
   "outputs": [
    {
     "data": {
      "text/plain": [
       "{'我': 1, '你': 2, '他': 3, '爱': 4, '天安门': 5}"
      ]
     },
     "execution_count": 6,
     "metadata": {},
     "output_type": "execute_result"
    }
   ],
   "source": [
    "a = [1, 2, 3, 4, 5]\n",
    "b = ['我', '你', '他', '爱', '天安门']\n",
    "dict(zip(b,a))\n"
   ]
  },
  {
   "cell_type": "code",
   "execution_count": 12,
   "id": "fb8d4548",
   "metadata": {},
   "outputs": [
    {
     "data": {
      "text/plain": [
       "2"
      ]
     },
     "execution_count": 12,
     "metadata": {},
     "output_type": "execute_result"
    }
   ],
   "source": [
    "c = dict(zip(b,a))\n",
    "c['你']"
   ]
  },
  {
   "cell_type": "code",
   "execution_count": 13,
   "id": "dd9dfc76",
   "metadata": {},
   "outputs": [
    {
     "data": {
      "text/plain": [
       "[1, 4, 5]"
      ]
     },
     "execution_count": 13,
     "metadata": {},
     "output_type": "execute_result"
    }
   ],
   "source": [
    "sentence = '我 爱 天安门'\n",
    "words = sentence.split(' ')\n",
    "[c[word]for word in words]"
   ]
  },
  {
   "cell_type": "code",
   "execution_count": 14,
   "id": "57c08d5b",
   "metadata": {},
   "outputs": [
    {
     "data": {
      "text/plain": [
       "{'我': 1, '你': 2, '他': 3, '爱': 4, '天安门': 5, '尚学堂': 6}"
      ]
     },
     "execution_count": 14,
     "metadata": {},
     "output_type": "execute_result"
    }
   ],
   "source": [
    "c['尚学堂'] = 6\n",
    "c"
   ]
  },
  {
   "cell_type": "code",
   "execution_count": 15,
   "id": "37b50709",
   "metadata": {},
   "outputs": [
    {
     "name": "stdout",
     "output_type": "stream",
     "text": [
      "我 1\n",
      "你 2\n",
      "他 3\n",
      "爱 4\n",
      "天安门 5\n",
      "尚学堂 6\n"
     ]
    }
   ],
   "source": [
    "for key in c.keys():\n",
    "    print(key,c[key])"
   ]
  },
  {
   "cell_type": "code",
   "execution_count": 22,
   "id": "cf2ce7b2",
   "metadata": {},
   "outputs": [
    {
     "name": "stdout",
     "output_type": "stream",
     "text": [
      "1\n",
      "2\n",
      "3\n",
      "4\n",
      "5\n",
      "6\n"
     ]
    }
   ],
   "source": [
    "for value in c.values():\n",
    "    print(value)"
   ]
  },
  {
   "cell_type": "code",
   "execution_count": 23,
   "id": "d34aa1df",
   "metadata": {},
   "outputs": [
    {
     "name": "stdout",
     "output_type": "stream",
     "text": [
      "我 1\n",
      "你 2\n",
      "他 3\n",
      "爱 4\n",
      "天安门 5\n",
      "尚学堂 6\n"
     ]
    }
   ],
   "source": [
    "for key in c.keys():\n",
    "    print(key, c[key])"
   ]
  },
  {
   "cell_type": "code",
   "execution_count": 24,
   "id": "c7a86789",
   "metadata": {},
   "outputs": [
    {
     "name": "stdout",
     "output_type": "stream",
     "text": [
      "0 10\n",
      "1 20\n",
      "2 30\n"
     ]
    }
   ],
   "source": [
    "aList = [10,20,30]\n",
    "for i,value in enumerate(aList):\n",
    "    print(i,value)"
   ]
  },
  {
   "cell_type": "code",
   "execution_count": 26,
   "id": "65d7781f",
   "metadata": {},
   "outputs": [
    {
     "data": {
      "text/plain": [
       "{1, 2, 3, 5}"
      ]
     },
     "execution_count": 26,
     "metadata": {},
     "output_type": "execute_result"
    }
   ],
   "source": [
    "a = {1,2,3,5,5}\n",
    "a"
   ]
  },
  {
   "cell_type": "code",
   "execution_count": null,
   "id": "d6f0b5b2",
   "metadata": {},
   "outputs": [],
   "source": []
  }
 ],
 "metadata": {
  "kernelspec": {
   "display_name": "first_env",
   "language": "python",
   "name": "my_first_env"
  },
  "language_info": {
   "codemirror_mode": {
    "name": "ipython",
    "version": 3
   },
   "file_extension": ".py",
   "mimetype": "text/x-python",
   "name": "python",
   "nbconvert_exporter": "python",
   "pygments_lexer": "ipython3",
   "version": "3.6.13"
  }
 },
 "nbformat": 4,
 "nbformat_minor": 5
}
