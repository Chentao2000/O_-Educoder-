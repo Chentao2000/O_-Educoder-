{
 "cells": [
  {
   "cell_type": "code",
   "execution_count": 2,
   "id": "f65c175d",
   "metadata": {},
   "outputs": [
    {
     "name": "stdout",
     "output_type": "stream",
     "text": [
      "结果 30\n"
     ]
    }
   ],
   "source": [
    "def func_out(num1):\n",
    "    def func_in(num2):\n",
    "        return num1+num2\n",
    "    return func_in\n",
    "f=func_out(10)\n",
    "result=f(20)\n",
    "print('结果',result)"
   ]
  },
  {
   "cell_type": "code",
   "execution_count": 7,
   "id": "307f761a",
   "metadata": {},
   "outputs": [],
   "source": [
    "def log(func):\n",
    "    # 这里的func 代指了 python的内部函数\n",
    "    def wrapper(a,b):\n",
    "        func(\"%s and %s ...\"%(a,b))\n",
    "        func(\"%s and %s 看电影\"%(a,b))\n",
    "        func(\"%s and %s 明年见\"%(a,b))\n",
    "    return wrapper\n",
    "# func 居然是没有逗号的 .... 直接 “”%（） 贴紧"
   ]
  },
  {
   "cell_type": "code",
   "execution_count": 9,
   "id": "efee29c6",
   "metadata": {},
   "outputs": [
    {
     "name": "stdout",
     "output_type": "stream",
     "text": [
      "牛郎 and 织女 ...\n",
      "牛郎 and 织女 看电影\n",
      "牛郎 and 织女 明年见\n"
     ]
    }
   ],
   "source": [
    "log(print)(\"牛郎\",\"织女\")"
   ]
  },
  {
   "cell_type": "code",
   "execution_count": 10,
   "id": "1f021aba",
   "metadata": {},
   "outputs": [],
   "source": [
    "# 装饰器 decorator "
   ]
  },
  {
   "cell_type": "code",
   "execution_count": 11,
   "id": "13edbcb7",
   "metadata": {},
   "outputs": [],
   "source": [
    "def log(func):\n",
    "    def wrapper():\n",
    "        print(\"约会开始了\")\n",
    "        func()\n",
    "        print(\"明年见\")\n",
    "    return wrapper\n"
   ]
  },
  {
   "cell_type": "code",
   "execution_count": null,
   "id": "2cb48977",
   "metadata": {},
   "outputs": [],
   "source": [
    "@log\n",
    "def my_deca():\n",
    "    print(\"nü'r\")"
   ]
  }
 ],
 "metadata": {
  "kernelspec": {
   "display_name": "first_env",
   "language": "python",
   "name": "my_first_env"
  },
  "language_info": {
   "codemirror_mode": {
    "name": "ipython",
    "version": 3
   },
   "file_extension": ".py",
   "mimetype": "text/x-python",
   "name": "python",
   "nbconvert_exporter": "python",
   "pygments_lexer": "ipython3",
   "version": "3.6.13"
  }
 },
 "nbformat": 4,
 "nbformat_minor": 5
}
